{
 "cells": [
  {
   "cell_type": "markdown",
   "id": "294437c5-785c-4f18-9ed2-e024756d921c",
   "metadata": {},
   "source": [
    "##learn about the numpy with chai aur code\n"
   ]
  },
  {
   "cell_type": "markdown",
   "id": "31a5995b",
   "metadata": {},
   "source": [
    "svda"
   ]
  },
  {
   "cell_type": "code",
   "execution_count": 1,
   "id": "96319079",
   "metadata": {},
   "outputs": [],
   "source": [
    "import numpy as np"
   ]
  },
  {
   "cell_type": "markdown",
   "id": "68bfe606",
   "metadata": {},
   "source": [
    "### creating array from the list\n"
   ]
  },
  {
   "cell_type": "code",
   "execution_count": 6,
   "id": "0844d3de",
   "metadata": {},
   "outputs": [
    {
     "name": "stdout",
     "output_type": "stream",
     "text": [
      "1d array: [1 2 3 4 5]\n",
      "2d array: [[1 2 3]\n",
      " [4 5 6]]\n"
     ]
    }
   ],
   "source": [
    "arr_1d = np.array([1,2,3,4,5])\n",
    "print(\"1d array:\", arr_1d)\n",
    "\n",
    "arr_2d = np.array([[1,2,3],[4,5,6]])\n",
    "print(\"2d array:\", arr_2d)"
   ]
  },
  {
   "cell_type": "markdown",
   "id": "555dffb6",
   "metadata": {},
   "source": [
    "### LIST vs Numpy array"
   ]
  },
  {
   "cell_type": "code",
   "execution_count": 10,
   "id": "c62688a9",
   "metadata": {},
   "outputs": [
    {
     "name": "stdout",
     "output_type": "stream",
     "text": [
      "Python list multiplication [1, 2, 3, 1, 2, 3]\n",
      "python array multiplication: [2 4 6]\n",
      "\n",
      " List is operation time 0.21920108795166016\n",
      "\n",
      " Numpy operation time: 0.01648879051208496\n"
     ]
    }
   ],
   "source": [
    "py_list = [1,2,3]\n",
    "print(\"Python list multiplication\", py_list*2)\n",
    "\n",
    "np_array = np.array([1,2,3])\n",
    "print(\"python array multiplication:\", np_array*2)\n",
    "\n",
    "import time\n",
    "start = time.time()\n",
    "py_list = [i*2 for i in range(10000000)]\n",
    "print(\"\\n List is operation time\", time.time()- start)\n",
    "\n",
    "start = time.time()\n",
    "np_array = np.arange(10000000)*2\n",
    "print(\"\\n Numpy operation time:\", time.time()- start)\n"
   ]
  },
  {
   "cell_type": "markdown",
   "id": "3107b4e6",
   "metadata": {},
   "source": [
    "### creating array from scratch\n"
   ]
  },
  {
   "cell_type": "code",
   "execution_count": 13,
   "id": "f91f8062",
   "metadata": {},
   "outputs": [
    {
     "name": "stdout",
     "output_type": "stream",
     "text": [
      "zeroes array: \n",
      " [[0. 0. 0. 0.]\n",
      " [0. 0. 0. 0.]\n",
      " [0. 0. 0. 0.]]\n",
      "one array: \n",
      " [[1. 1. 1.]\n",
      " [1. 1. 1.]]\n",
      "full array: \n",
      " [[7 7]\n",
      " [7 7]]\n",
      "random array: \n",
      " [[0.14979531 0.33577786 0.57873594]\n",
      " [0.77318053 0.68012884 0.33811396]]\n",
      "sequence array: \n",
      " [0 2 4 6 8]\n"
     ]
    }
   ],
   "source": [
    "zeros = np.zeros((3,4))\n",
    "print(\"zeroes array: \\n\",zeros)\n",
    "\n",
    "ones = np.ones((2,3))\n",
    "print(\"one array: \\n\", ones)\n",
    "\n",
    "full = np.full((2,2),7)\n",
    "print(\"full array: \\n\" , full)\n",
    "\n",
    "random = np.random.random((2,3))\n",
    "print(\"random array: \\n\", random)\n",
    "\n",
    "sequence = np.arange(0,10,2)\n",
    "print(\"sequence array: \\n\", sequence)"
   ]
  },
  {
   "cell_type": "markdown",
   "id": "e7d7e529",
   "metadata": {},
   "source": [
    "### Vector , matrix and tensor"
   ]
  },
  {
   "cell_type": "code",
   "execution_count": 16,
   "id": "d4a4c869",
   "metadata": {},
   "outputs": [
    {
     "name": "stdout",
     "output_type": "stream",
     "text": [
      "vector:  [1 2 3]\n",
      "Matrix: [[1 2 3 4]\n",
      " [2 3 4 5]]\n",
      "Tensor:  [[[1 2 3]\n",
      "  [4 5 6]]\n",
      "\n",
      " [[3 4 5]\n",
      "  [7 8 9]]]\n"
     ]
    }
   ],
   "source": [
    "vector = np.array([1,2,3])\n",
    "print(\"vector: \", vector)\n",
    "\n",
    "martix = np.array([[1,2,3,4],\n",
    "                    [2,3,4,5]])\n",
    "print(\"Matrix:\", martix)\n",
    "\n",
    "Tensor = np.array([[[1,2,3],[4,5,6]],\n",
    "                    [[3,4,5],[7,8,9]]])\n",
    "print(\"Tensor: \",Tensor)"
   ]
  },
  {
   "cell_type": "markdown",
   "id": "8f83e232",
   "metadata": {},
   "source": [
    "### Array properties"
   ]
  },
  {
   "cell_type": "code",
   "execution_count": 17,
   "id": "74e0a3c7",
   "metadata": {},
   "outputs": [
    {
     "name": "stdout",
     "output_type": "stream",
     "text": [
      "shape (2, 3)\n",
      "Dimesion 2\n",
      "Size 6\n",
      "Dtype int64\n"
     ]
    }
   ],
   "source": [
    "arr = np.array([[1,2,3],\n",
    "                [4,5,6]])\n",
    "print(\"shape\", arr.shape) # tell us about the row and column\n",
    "print(\"Dimesion\", arr.ndim) #tell about dimension\n",
    "print(\"Size\", arr.size) #tell us about the number of data availabe\n",
    "print(\"Dtype\", arr.dtype) # tell us about the data type"
   ]
  },
  {
   "cell_type": "markdown",
   "id": "2db322ef",
   "metadata": {},
   "source": [
    "### Array reshaping"
   ]
  },
  {
   "cell_type": "code",
   "execution_count": 19,
   "id": "f69d87f5",
   "metadata": {},
   "outputs": [
    {
     "name": "stdout",
     "output_type": "stream",
     "text": [
      "original array [ 0  1  2  3  4  5  6  7  8  9 10 11]\n",
      "Reshape array [[ 0  1  2  3]\n",
      " [ 4  5  6  7]\n",
      " [ 8  9 10 11]]\n",
      "\n",
      " Flattern array [ 0  1  2  3  4  5  6  7  8  9 10 11]\n",
      "\n",
      " raveled array [ 0  1  2  3  4  5  6  7  8  9 10 11]\n",
      "\n",
      " Transpose [[ 0  4  8]\n",
      " [ 1  5  9]\n",
      " [ 2  6 10]\n",
      " [ 3  7 11]]\n"
     ]
    }
   ],
   "source": [
    "arr = np.arange(12)\n",
    "print(\"original array\", arr)\n",
    "\n",
    "reshape = arr.reshape((3,4))\n",
    "print(\"Reshape array\", reshape )\n",
    "\n",
    "flatten = reshape.flatten()\n",
    "print(\"\\n Flattern array\", flatten)\n",
    "\n",
    "# ravel (return view, instead of copy)\n",
    "raveled = reshape.ravel()\n",
    "print('\\n raveled array', raveled)\n",
    "\n",
    "transpose = reshape.T\n",
    "print(\"\\n Transpose\", transpose)\n"
   ]
  }
 ],
 "metadata": {
  "kernelspec": {
   "display_name": "Python 3 (ipykernel)",
   "language": "python",
   "name": "python3"
  },
  "language_info": {
   "codemirror_mode": {
    "name": "ipython",
    "version": 3
   },
   "file_extension": ".py",
   "mimetype": "text/x-python",
   "name": "python",
   "nbconvert_exporter": "python",
   "pygments_lexer": "ipython3",
   "version": "3.12.7"
  }
 },
 "nbformat": 4,
 "nbformat_minor": 5
}
