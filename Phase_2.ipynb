{
 "cells": [
  {
   "cell_type": "markdown",
   "metadata": {},
   "source": [
    "### NUMPY array operation"
   ]
  },
  {
   "cell_type": "code",
   "execution_count": 3,
   "metadata": {},
   "outputs": [],
   "source": [
    "import numpy as np"
   ]
  },
  {
   "cell_type": "code",
   "execution_count": 4,
   "metadata": {},
   "outputs": [
    {
     "name": "stdout",
     "output_type": "stream",
     "text": [
      "Basic slicing [3 4 5 6 7]\n",
      "with step [2 4 6 8]\n",
      "Negative indexing 8\n"
     ]
    }
   ],
   "source": [
    "arr = np.array([1,2,3,4,5,6,7,8,9,10])\n",
    "print(\"Basic slicing\", arr[2:7])\n",
    "print(\"with step\", arr[1:8:2])\n",
    "print(\"Negative indexing\", arr[-3])\n"
   ]
  },
  {
   "cell_type": "code",
   "execution_count": 5,
   "metadata": {},
   "outputs": [
    {
     "name": "stdout",
     "output_type": "stream",
     "text": [
      "Specific element 6\n",
      "entire row: [4 5 6]\n",
      "Entire row: [2 5 8]\n"
     ]
    }
   ],
   "source": [
    "arr_2d = np.array([ [1,2,3],\n",
    "                    [4,5,6],\n",
    "                    [7,8,9]\n",
    "                    ])\n",
    "print(\"Specific element\", arr_2d[1,2])\n",
    "print(\"entire row:\", arr_2d[1])\n",
    "print(\"Entire row:\", arr_2d[:,1])"
   ]
  },
  {
   "cell_type": "markdown",
   "metadata": {},
   "source": [
    "### SORTING"
   ]
  },
  {
   "cell_type": "code",
   "execution_count": 6,
   "metadata": {},
   "outputs": [
    {
     "name": "stdout",
     "output_type": "stream",
     "text": [
      "Sorted array [1 1 2 3 4 5 6 9]\n",
      "Sorted 2D array by column [[3 4]\n",
      " [2 7]\n",
      " [0 9]]\n"
     ]
    }
   ],
   "source": [
    "unsorted = np.array([3,1,4,1,5,9,2,6])\n",
    "print(\"Sorted array\", np.sort(unsorted))\n",
    "\n",
    "arr_2d_unsorted = np.array([[3,4],[2,7],[0,9]])\n",
    "print(\"Sorted 2D array by column\", np.sort(arr_2d_unsorted, axis = 1))\n"
   ]
  },
  {
   "cell_type": "markdown",
   "metadata": {},
   "source": [
    "### FLITER"
   ]
  },
  {
   "cell_type": "code",
   "execution_count": null,
   "metadata": {},
   "outputs": [],
   "source": [
    "numbers = np.array([[1,2,3,4,5,6,7,8,9,20]])\n",
    "even_number = numbers[numbers % 2 == 0]\n",
    "print(even_number\n",
    "      )"
   ]
  },
  {
   "cell_type": "markdown",
   "metadata": {},
   "source": [
    "### Filter with mask"
   ]
  },
  {
   "cell_type": "code",
   "execution_count": 10,
   "metadata": {},
   "outputs": [
    {
     "name": "stdout",
     "output_type": "stream",
     "text": [
      "Number greater than 5 [ 6  7  8  9 20]\n"
     ]
    }
   ],
   "source": [
    "numbers = np.array([[1,2,3,4,5,6,7,8,9,20]])\n",
    "mask = numbers > 5\n",
    "print(\"Number greater than 5\", numbers[mask])"
   ]
  },
  {
   "cell_type": "markdown",
   "metadata": {},
   "source": [
    "### fancy indexing vs np.where()"
   ]
  },
  {
   "cell_type": "code",
   "execution_count": 9,
   "metadata": {},
   "outputs": [
    {
     "name": "stdout",
     "output_type": "stream",
     "text": [
      "(array([0, 0, 0, 0, 0]), array([5, 6, 7, 8, 9]))\n",
      "Np where [ 6  7  8  9 20]\n"
     ]
    }
   ],
   "source": [
    "import numpy as np\n",
    "\n",
    "where_result = np.where(numbers > 5)\n",
    "print(where_result)\n",
    "print(\"Np where\", numbers[where_result])"
   ]
  },
  {
   "cell_type": "code",
   "execution_count": 10,
   "metadata": {},
   "outputs": [
    {
     "name": "stdout",
     "output_type": "stream",
     "text": [
      "[[ 1  2  3  4  5 12 14 16 18 40]]\n"
     ]
    }
   ],
   "source": [
    "\n",
    "#use where( condition , x , y)\n",
    "# x = return the number in state if condition statfiys \n",
    "# y = if the condition is false then return number as per the y clause\n",
    "\n",
    "condition_array = np.where(numbers > 5, numbers*2 , numbers) \n",
    "print(condition_array)"
   ]
  },
  {
   "cell_type": "markdown",
   "metadata": {},
   "source": [
    "### ADDING and Removing the data"
   ]
  },
  {
   "cell_type": "code",
   "execution_count": 11,
   "metadata": {},
   "outputs": [
    {
     "name": "stdout",
     "output_type": "stream",
     "text": [
      "[1 2 3 4 5 6]\n"
     ]
    }
   ],
   "source": [
    "arr1 = np.array([1,2,3])\n",
    "arr2 = np.array([4,5,6])\n",
    "\n",
    "combined  = np.concatenate((arr1,arr2))\n",
    "print(combined)"
   ]
  },
  {
   "cell_type": "markdown",
   "metadata": {},
   "source": [
    "### Array compatibitly"
   ]
  },
  {
   "cell_type": "code",
   "execution_count": 13,
   "metadata": {},
   "outputs": [
    {
     "name": "stdout",
     "output_type": "stream",
     "text": [
      "check compatibility shapes:- True\n"
     ]
    }
   ],
   "source": [
    "a = np.array([1,2,3])\n",
    "b = np.array([4,5,6])\n",
    "c = np.array([7,8,9])\n",
    "\n",
    "print(\"check compatibility shapes:-\", a.shape == b.shape)"
   ]
  },
  {
   "cell_type": "code",
   "execution_count": 16,
   "metadata": {},
   "outputs": [
    {
     "name": "stdout",
     "output_type": "stream",
     "text": [
      "[[1 2]\n",
      " [3 4]]\n",
      "[[1 2]\n",
      " [3 4]\n",
      " [5 6]]\n",
      "with new column [[1 2 7]\n",
      " [3 4 8]]\n"
     ]
    }
   ],
   "source": [
    "original = np.array([[1,2],\n",
    "                    [3,4]])\n",
    "new_row = np.array([[5,6]])\n",
    "\n",
    "# .vstack help to add the new row\n",
    "with_new_row = np.vstack((original , new_row))\n",
    "print(original)\n",
    "print(with_new_row)\n",
    "\n",
    "new__col = np.array([[7],[8]])\n",
    "with_new_col = np.hstack((original, new__col))\n",
    "print(\"with new column\", with_new_col)"
   ]
  },
  {
   "cell_type": "code",
   "execution_count": 18,
   "metadata": {},
   "outputs": [
    {
     "name": "stdout",
     "output_type": "stream",
     "text": [
      "array after deletion:  [1 2 3 5]\n"
     ]
    }
   ],
   "source": [
    "arr = np.array([1,2,3,4,5])\n",
    "deleted = np.delete(arr,3)\n",
    "print(\"array after deletion: \",deleted)"
   ]
  }
 ],
 "metadata": {
  "kernelspec": {
   "display_name": "venv",
   "language": "python",
   "name": "python3"
  },
  "language_info": {
   "codemirror_mode": {
    "name": "ipython",
    "version": 3
   },
   "file_extension": ".py",
   "mimetype": "text/x-python",
   "name": "python",
   "nbconvert_exporter": "python",
   "pygments_lexer": "ipython3",
   "version": "3.12.7"
  }
 },
 "nbformat": 4,
 "nbformat_minor": 2
}
